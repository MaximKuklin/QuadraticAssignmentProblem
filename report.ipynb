{
 "cells": [
  {
   "cell_type": "code",
   "execution_count": 1,
   "metadata": {
    "collapsed": true,
    "pycharm": {
     "is_executing": false
    }
   },
   "outputs": [
    {
     "name": "stdout",
     "text": [
      "F is: \n [[0 0 2 0 3]\n [0 0 0 3 0]\n [2 0 0 0 0]\n [0 3 0 0 1]\n [3 0 0 1 0]]\nD is: \n [[ 0 50 50 94 50]\n [50  0 22 50 36]\n [50 22  0 44 14]\n [94 50 44  0 50]\n [50 36 14 50  0]]\nNone\n\n [1 3 4 2 0]\n628\nF is: \n [[0 0 2 0 3]\n [0 0 0 3 0]\n [2 0 0 0 0]\n [0 3 0 0 1]\n [3 0 0 1 0]]\nD is: \n [[ 0 50 50 94 50]\n [50  0 22 50 36]\n [50 22  0 44 14]\n [94 50 44  0 50]\n [50 36 14 50  0]]\n628\n628.1\n628.2\n628.3\n628.4\n628.5\n628.6\n628.7\n628.8\n628.9\n\n [4 3 2 0 1]\n628\n"
     ],
     "output_type": "stream"
    }
   ],
   "source": [
    "import pandas as pd \n",
    "import numpy as np\n",
    "import timeit\n",
    "\n",
    "from algorithms.local_search import LocalSearch\n",
    "from algorithms.iterated import Iterated\n",
    "from algorithms.guided import Guided\n",
    "from tools.load_data import get_all"
   ]
  },
  {
   "cell_type": "code",
   "execution_count": 2,
   "outputs": [
    {
     "name": "stdout",
     "text": [
      "tai100a  is loaded!\ntai20a  is loaded!\ntai40a  is loaded!\ntai60a  is loaded!\ntai80a  is loaded!\n"
     ],
     "output_type": "stream"
    },
    {
     "data": {
      "text/plain": "dict_values([20, array([[ 0, 85, 72,  7, 49, 46, 87, 58, 17, 68, 27, 21,  6, 67, 26, 82,\n        44, 35,  3, 62],\n       [85,  0,  8, 51,  1, 91, 39, 87, 72, 45, 96,  7, 87, 68, 33,  3,\n        21, 90, 45, 47],\n       [72,  8,  0, 25, 30, 43, 97, 33, 35, 61, 42, 36, 43,  7, 84,  6,\n         0,  0, 48, 62],\n       [ 7, 51, 25,  0, 59, 29, 94, 82, 29,  3,  3, 51, 67, 39, 15, 66,\n        42, 23, 62, 62],\n       [49,  1, 30, 59,  0, 28, 76, 66, 82, 98, 35, 15, 17, 77, 44, 26,\n        76, 86, 60, 62],\n       [46, 91, 43, 29, 28,  0, 62, 83, 91, 57, 62, 36,  2,  2, 43, 65,\n        37, 49, 61,  5],\n       [87, 39, 97, 94, 76, 62,  0, 34, 53, 96, 82, 48, 28, 31, 75,  1,\n        95,  7, 92, 69],\n       [58, 87, 33, 82, 66, 83, 34,  0, 62, 32, 97,  5, 39, 50, 82, 93,\n        71, 35, 14, 20],\n       [17, 72, 35, 29, 82, 91, 53, 62,  0, 74, 49, 50, 37, 79, 19, 51,\n        70, 42, 26, 79],\n       [68, 45, 61,  3, 98, 57, 96, 32, 74,  0, 98, 60, 35,  9, 96, 70,\n        21, 37, 37, 67],\n       [27, 96, 42,  3, 35, 62, 82, 97, 49, 98,  0, 93, 93, 39,  2, 52,\n        26, 90, 26,  1],\n       [21,  7, 36, 51, 15, 36, 48,  5, 50, 60, 93,  0, 68, 93,  7, 94,\n        19, 54, 37,  0],\n       [ 6, 87, 43, 67, 17,  2, 28, 39, 37, 35, 93, 68,  0, 20, 12, 11,\n        66, 84, 80,  1],\n       [67, 68,  7, 39, 77,  2, 31, 50, 79,  9, 39, 93, 20,  0, 55,  9,\n        21, 12, 65,  7],\n       [26, 33, 84, 15, 44, 43, 75, 82, 19, 96,  2,  7, 12, 55,  0, 17,\n        51, 84, 87,  2],\n       [82,  3,  6, 66, 26, 65,  1, 93, 51, 70, 52, 94, 11,  9, 17,  0,\n        27, 82, 71, 71],\n       [44, 21,  0, 42, 76, 37, 95, 71, 70, 21, 26, 19, 66, 21, 51, 27,\n         0, 40, 93, 27],\n       [35, 90,  0, 23, 86, 49,  7, 35, 42, 37, 90, 54, 84, 12, 84, 82,\n        40,  0, 93, 92],\n       [ 3, 45, 48, 62, 60, 61, 92, 14, 26, 37, 26, 37, 80, 65, 87, 71,\n        93, 93,  0, 34],\n       [62, 47, 62, 62, 62,  5, 69, 20, 79, 67,  1,  0,  1,  7,  2, 71,\n        27, 92, 34,  0]], dtype=int32), array([[ 0, 21, 95, 82, 56, 41,  6, 25, 10,  4, 63,  6, 44, 40, 75, 79,\n         0, 89, 35,  9],\n       [21,  0,  1, 85, 84, 12,  0, 26, 91, 11, 35, 82, 26, 69, 56, 86,\n        45, 91, 59, 18],\n       [95,  1,  0, 76, 39, 18, 57, 36, 61, 36, 21, 71, 11, 29, 82, 82,\n         6, 71,  8, 77],\n       [82, 85, 76,  0, 74, 30, 89, 76, 76, 40, 93, 56,  1, 50,  4, 36,\n        27, 85,  2,  1],\n       [56, 84, 39, 74,  0, 15, 11, 35, 11, 20, 21, 61, 80, 58, 21, 76,\n        72, 44, 85, 94],\n       [41, 12, 18, 30, 15,  0, 90, 51,  3, 48, 29, 90, 66, 41, 15, 83,\n        96, 74, 45, 65],\n       [ 6,  0, 57, 89, 11, 90,  0, 40, 54, 83, 14, 71, 77, 36, 53, 37,\n        26, 87, 76, 91],\n       [25, 26, 36, 76, 35, 51, 40,  0, 13, 29, 11, 77, 32, 87, 67, 94,\n        79,  2, 10, 99],\n       [10, 91, 61, 76, 11,  3, 54, 13,  0, 56, 70, 99, 60,  4, 56,  2,\n        60, 72, 74, 46],\n       [ 4, 11, 36, 40, 20, 48, 83, 29, 56,  0, 13, 20, 86,  4, 77, 15,\n        89, 48, 14, 89],\n       [63, 35, 21, 93, 21, 29, 14, 11, 70, 13,  0, 44, 59, 22, 57, 63,\n         6,  0, 62, 41],\n       [ 6, 82, 71, 56, 61, 90, 71, 77, 99, 20, 44,  0, 62, 46, 25, 75,\n        76, 40, 66, 58],\n       [44, 26, 11,  1, 80, 66, 77, 32, 60, 86, 59, 62,  0, 30, 68, 78,\n        91, 13, 59, 49],\n       [40, 69, 29, 50, 58, 41, 36, 87,  4,  4, 22, 46, 30,  0, 85, 84,\n         8, 38, 41, 56],\n       [75, 56, 82,  4, 21, 15, 53, 67, 56, 77, 57, 25, 68, 85,  0, 39,\n        53, 77, 50, 30],\n       [79, 86, 82, 36, 76, 83, 37, 94,  2, 15, 63, 75, 78, 84, 39,  0,\n        58, 55, 19, 85],\n       [ 0, 45,  6, 27, 72, 96, 26, 79, 60, 89,  6, 76, 91,  8, 53, 58,\n         0, 52, 34, 53],\n       [89, 91, 71, 85, 44, 74, 87,  2, 72, 48,  0, 40, 13, 38, 77, 55,\n        52,  0, 40, 69],\n       [35, 59,  8,  2, 85, 45, 76, 10, 74, 14, 62, 66, 59, 41, 50, 19,\n        34, 40,  0, 12],\n       [ 9, 18, 77,  1, 94, 65, 91, 99, 46, 89, 41, 58, 49, 56, 30, 85,\n        53, 69, 12,  0]], dtype=int32)])"
     },
     "metadata": {},
     "output_type": "execute_result",
     "execution_count": 2
    }
   ],
   "source": [
    "cases = get_all()\n",
    "cases[0].values()"
   ],
   "metadata": {
    "collapsed": false,
    "pycharm": {
     "name": "#%%\n",
     "is_executing": false
    }
   }
  },
  {
   "cell_type": "code",
   "execution_count": 5,
   "outputs": [
    {
     "name": "stdout",
     "text": [
      "n =  20  result:\nfirst-impr\n[15  3 17 19  1  5 10 14  0  9 18  7 12 11  4  8  6  2 13 16]\nCost: 739876\nTime spent: 0.1238 seconds\n\nbest-impr\n[ 3  5 19  1  6 14 16  2  4 15 10 17  9  7 18 12 11 13  0  8]\nCost: 747516\nTime spent: 0.1024 seconds\n\nn =  40  result:\nfirst-impr\n",
      "[28  0 26 33 34  7 21  5 39 38 11 16  6 25 18 35 24  4  9 10 19  2  1 17\n 23 37  3 29 20 13 22 14 27  8 36 31 30 15 12 32]\nCost: 3263354\nTime spent: 1.7485 seconds\n\nbest-impr\n",
      "[ 1 38  0 16 31 36 18 20  3  4 14  6 32 22 37  5 23  9 12 15 17  2  8 29\n 26 11  7 25 27 34 19 35 24 33 30 13 39 28 10 21]\nCost: 3250978\nTime spent: 1.6081 seconds\n\nn =  60  result:\nfirst-impr\n",
      "[37 10 28 12 53 40 24 42 31 15 56 58 41  0 48 54 13 34 57 29  5  6  4  2\n 49 19 11 21 22 33 17 25 52 14 20 45 35 30 36 39 46 47 16  8 59 51 23 50\n  3 26 18 27 43 44 32  1 55  7 38  9]\nCost: 7542500\nTime spent: 3.9447 seconds\n\nbest-impr\n",
      "[15 30 56 12 33 16 53 46 23 36  7  3 10 41  4  9 59 24 40 28  6 32 49 31\n 58  2 42 29 47 44 22 20 34 50 17 13 55 57 19 37 35 43  8 18  1 52 39 48\n 51  5 21 27 25 14 54 45 11 26 38  0]\nCost: 7522132\nTime spent: 9.1537 seconds\n\nn =  80  result:\nfirst-impr\n"
     ],
     "output_type": "stream"
    },
    {
     "traceback": [
      "\u001b[0;31m---------------------------------------------------------------------------\u001b[0m",
      "\u001b[0;31mKeyboardInterrupt\u001b[0m                         Traceback (most recent call last)",
      "\u001b[0;32m<ipython-input-5-5d0c98939f29>\u001b[0m in \u001b[0;36m<module>\u001b[0;34m\u001b[0m\n\u001b[1;32m      5\u001b[0m     \u001b[0mprint\u001b[0m\u001b[0;34m(\u001b[0m\u001b[0;34m'first-impr'\u001b[0m\u001b[0;34m)\u001b[0m\u001b[0;34m\u001b[0m\u001b[0;34m\u001b[0m\u001b[0m\n\u001b[1;32m      6\u001b[0m     \u001b[0mstart\u001b[0m \u001b[0;34m=\u001b[0m \u001b[0mtimeit\u001b[0m\u001b[0;34m.\u001b[0m\u001b[0mdefault_timer\u001b[0m\u001b[0;34m(\u001b[0m\u001b[0;34m)\u001b[0m\u001b[0;34m\u001b[0m\u001b[0;34m\u001b[0m\u001b[0m\n\u001b[0;32m----> 7\u001b[0;31m     \u001b[0mresult\u001b[0m \u001b[0;34m=\u001b[0m \u001b[0malgo\u001b[0m\u001b[0;34m.\u001b[0m\u001b[0mrun\u001b[0m\u001b[0;34m(\u001b[0m\u001b[0;34m'first_improvement'\u001b[0m\u001b[0;34m,\u001b[0m \u001b[0mdlb\u001b[0m\u001b[0;34m=\u001b[0m\u001b[0;32mTrue\u001b[0m\u001b[0;34m)\u001b[0m\u001b[0;34m\u001b[0m\u001b[0;34m\u001b[0m\u001b[0m\n\u001b[0m\u001b[1;32m      8\u001b[0m     \u001b[0mend\u001b[0m \u001b[0;34m=\u001b[0m \u001b[0mtimeit\u001b[0m\u001b[0;34m.\u001b[0m\u001b[0mdefault_timer\u001b[0m\u001b[0;34m(\u001b[0m\u001b[0;34m)\u001b[0m\u001b[0;34m\u001b[0m\u001b[0;34m\u001b[0m\u001b[0m\n\u001b[1;32m      9\u001b[0m     \u001b[0mprint\u001b[0m\u001b[0;34m(\u001b[0m\u001b[0mresult\u001b[0m\u001b[0;34m)\u001b[0m\u001b[0;34m\u001b[0m\u001b[0;34m\u001b[0m\u001b[0m\n",
      "\u001b[0;32m~/PycharmProjects/untitled/algorithms/local_search.py\u001b[0m in \u001b[0;36mrun\u001b[0;34m(self, method, dlb, eye, iters)\u001b[0m\n\u001b[1;32m     57\u001b[0m         \u001b[0;32melse\u001b[0m\u001b[0;34m:\u001b[0m\u001b[0;34m\u001b[0m\u001b[0;34m\u001b[0m\u001b[0m\n\u001b[1;32m     58\u001b[0m             \u001b[0;32mwhile\u001b[0m \u001b[0;32mTrue\u001b[0m\u001b[0;34m:\u001b[0m\u001b[0;34m\u001b[0m\u001b[0;34m\u001b[0m\u001b[0m\n\u001b[0;32m---> 59\u001b[0;31m                 \u001b[0mresult\u001b[0m \u001b[0;34m=\u001b[0m \u001b[0mmethod\u001b[0m\u001b[0;34m(\u001b[0m\u001b[0mself\u001b[0m\u001b[0;34m,\u001b[0m \u001b[0mexcept_fac\u001b[0m\u001b[0;34m,\u001b[0m \u001b[0mdlb\u001b[0m\u001b[0;34m=\u001b[0m\u001b[0mdlb\u001b[0m\u001b[0;34m)\u001b[0m\u001b[0;34m\u001b[0m\u001b[0;34m\u001b[0m\u001b[0m\n\u001b[0m\u001b[1;32m     60\u001b[0m                 \u001b[0;32mif\u001b[0m \u001b[0mresult\u001b[0m \u001b[0;32mis\u001b[0m \u001b[0;32mnot\u001b[0m \u001b[0;32mNone\u001b[0m\u001b[0;34m:\u001b[0m\u001b[0;34m\u001b[0m\u001b[0;34m\u001b[0m\u001b[0m\n\u001b[1;32m     61\u001b[0m                     \u001b[0mr\u001b[0m \u001b[0;34m=\u001b[0m \u001b[0mresult\u001b[0m\u001b[0;34m[\u001b[0m\u001b[0;34m'r'\u001b[0m\u001b[0;34m]\u001b[0m\u001b[0;34m\u001b[0m\u001b[0;34m\u001b[0m\u001b[0m\n",
      "\u001b[0;32m~/PycharmProjects/untitled/algorithms/local_search.py\u001b[0m in \u001b[0;36mfirst_improvement\u001b[0;34m(self, except_fac, dlb)\u001b[0m\n\u001b[1;32m     78\u001b[0m                 \u001b[0;32mif\u001b[0m \u001b[0mdlb\u001b[0m \u001b[0;32mand\u001b[0m \u001b[0mbits\u001b[0m\u001b[0;34m[\u001b[0m\u001b[0ms\u001b[0m\u001b[0;34m]\u001b[0m\u001b[0;34m:\u001b[0m\u001b[0;34m\u001b[0m\u001b[0;34m\u001b[0m\u001b[0m\n\u001b[1;32m     79\u001b[0m                     \u001b[0;32mcontinue\u001b[0m\u001b[0;34m\u001b[0m\u001b[0;34m\u001b[0m\u001b[0m\n\u001b[0;32m---> 80\u001b[0;31m                 \u001b[0mdelta\u001b[0m \u001b[0;34m=\u001b[0m \u001b[0mself\u001b[0m\u001b[0;34m.\u001b[0m\u001b[0mdelta_function\u001b[0m\u001b[0;34m(\u001b[0m\u001b[0ms\u001b[0m\u001b[0;34m,\u001b[0m \u001b[0mr\u001b[0m\u001b[0;34m)\u001b[0m\u001b[0;34m\u001b[0m\u001b[0;34m\u001b[0m\u001b[0m\n\u001b[0m\u001b[1;32m     81\u001b[0m                 \u001b[0;32mif\u001b[0m \u001b[0mdelta\u001b[0m \u001b[0;34m<\u001b[0m \u001b[0;36m0\u001b[0m\u001b[0;34m:\u001b[0m\u001b[0;34m\u001b[0m\u001b[0;34m\u001b[0m\u001b[0m\n\u001b[1;32m     82\u001b[0m                     \u001b[0;32mreturn\u001b[0m \u001b[0;34m{\u001b[0m\u001b[0;34m'delta'\u001b[0m\u001b[0;34m:\u001b[0m \u001b[0mdelta\u001b[0m\u001b[0;34m,\u001b[0m \u001b[0;34m'r'\u001b[0m\u001b[0;34m:\u001b[0m \u001b[0mr\u001b[0m\u001b[0;34m,\u001b[0m \u001b[0;34m's'\u001b[0m\u001b[0;34m:\u001b[0m \u001b[0ms\u001b[0m\u001b[0;34m}\u001b[0m\u001b[0;34m\u001b[0m\u001b[0;34m\u001b[0m\u001b[0m\n",
      "\u001b[0;32m~/PycharmProjects/untitled/algorithms/local_search.py\u001b[0m in \u001b[0;36mdelta_function\u001b[0;34m(self, r, s)\u001b[0m\n\u001b[1;32m     39\u001b[0m         \u001b[0;32mfor\u001b[0m \u001b[0mk\u001b[0m \u001b[0;32min\u001b[0m \u001b[0mrange\u001b[0m\u001b[0;34m(\u001b[0m\u001b[0mself\u001b[0m\u001b[0;34m.\u001b[0m\u001b[0mn\u001b[0m\u001b[0;34m)\u001b[0m\u001b[0;34m:\u001b[0m\u001b[0;34m\u001b[0m\u001b[0;34m\u001b[0m\u001b[0m\n\u001b[1;32m     40\u001b[0m             \u001b[0;32mif\u001b[0m \u001b[0mk\u001b[0m \u001b[0;34m!=\u001b[0m \u001b[0mr\u001b[0m \u001b[0;32mand\u001b[0m \u001b[0mk\u001b[0m \u001b[0;34m!=\u001b[0m \u001b[0ms\u001b[0m\u001b[0;34m:\u001b[0m\u001b[0;34m\u001b[0m\u001b[0;34m\u001b[0m\u001b[0m\n\u001b[0;32m---> 41\u001b[0;31m                 \u001b[0mfun_sum\u001b[0m \u001b[0;34m+=\u001b[0m \u001b[0;34m(\u001b[0m\u001b[0mself\u001b[0m\u001b[0;34m.\u001b[0m\u001b[0mF\u001b[0m\u001b[0;34m[\u001b[0m\u001b[0mk\u001b[0m\u001b[0;34m,\u001b[0m \u001b[0mr\u001b[0m\u001b[0;34m]\u001b[0m \u001b[0;34m+\u001b[0m \u001b[0mself\u001b[0m\u001b[0;34m.\u001b[0m\u001b[0mF\u001b[0m\u001b[0;34m[\u001b[0m\u001b[0mr\u001b[0m\u001b[0;34m,\u001b[0m \u001b[0mk\u001b[0m\u001b[0;34m]\u001b[0m\u001b[0;34m)\u001b[0m \u001b[0;34m*\u001b[0m\u001b[0;31m \u001b[0m\u001b[0;31m\\\u001b[0m\u001b[0;34m\u001b[0m\u001b[0;34m\u001b[0m\u001b[0m\n\u001b[0m\u001b[1;32m     42\u001b[0m                            \u001b[0;34m(\u001b[0m\u001b[0mself\u001b[0m\u001b[0;34m.\u001b[0m\u001b[0mD\u001b[0m\u001b[0;34m[\u001b[0m\u001b[0mloc\u001b[0m\u001b[0;34m[\u001b[0m\u001b[0ms\u001b[0m\u001b[0;34m]\u001b[0m\u001b[0;34m,\u001b[0m \u001b[0mloc\u001b[0m\u001b[0;34m[\u001b[0m\u001b[0mk\u001b[0m\u001b[0;34m]\u001b[0m\u001b[0;34m]\u001b[0m \u001b[0;34m-\u001b[0m \u001b[0mself\u001b[0m\u001b[0;34m.\u001b[0m\u001b[0mD\u001b[0m\u001b[0;34m[\u001b[0m\u001b[0mloc\u001b[0m\u001b[0;34m[\u001b[0m\u001b[0mr\u001b[0m\u001b[0;34m]\u001b[0m\u001b[0;34m,\u001b[0m \u001b[0mloc\u001b[0m\u001b[0;34m[\u001b[0m\u001b[0mk\u001b[0m\u001b[0;34m]\u001b[0m\u001b[0;34m]\u001b[0m\u001b[0;34m)\u001b[0m \u001b[0;34m+\u001b[0m\u001b[0;31m \u001b[0m\u001b[0;31m\\\u001b[0m\u001b[0;34m\u001b[0m\u001b[0;34m\u001b[0m\u001b[0m\n\u001b[1;32m     43\u001b[0m                            \u001b[0;34m(\u001b[0m\u001b[0mself\u001b[0m\u001b[0;34m.\u001b[0m\u001b[0mF\u001b[0m\u001b[0;34m[\u001b[0m\u001b[0mk\u001b[0m\u001b[0;34m,\u001b[0m \u001b[0ms\u001b[0m\u001b[0;34m]\u001b[0m \u001b[0;34m+\u001b[0m \u001b[0mself\u001b[0m\u001b[0;34m.\u001b[0m\u001b[0mF\u001b[0m\u001b[0;34m[\u001b[0m\u001b[0ms\u001b[0m\u001b[0;34m,\u001b[0m \u001b[0mk\u001b[0m\u001b[0;34m]\u001b[0m\u001b[0;34m)\u001b[0m \u001b[0;34m*\u001b[0m\u001b[0;31m \u001b[0m\u001b[0;31m\\\u001b[0m\u001b[0;34m\u001b[0m\u001b[0;34m\u001b[0m\u001b[0m\n",
      "\u001b[0;31mKeyboardInterrupt\u001b[0m: "
     ],
     "ename": "KeyboardInterrupt",
     "evalue": "",
     "output_type": "error"
    }
   ],
   "source": [
    "for case in cases:\n",
    "    algo = LocalSearch(*case.values())\n",
    "    print('n = ', case['n'], ' result:')\n",
    "    \n",
    "    print('first-impr')\n",
    "    start = timeit.default_timer()\n",
    "    result = algo.run('first_improvement', dlb=True)\n",
    "    end = timeit.default_timer()\n",
    "    print(result)\n",
    "    print(f\"Cost: {algo.cost_fun}\")\n",
    "    print('Time spent: {:.4f} seconds\\n'.format(end-start))\n",
    "    \n",
    "    print('best-impr')\n",
    "    start = timeit.default_timer()\n",
    "    result = algo.run('best_improvement', dlb=True)\n",
    "    end = timeit.default_timer()\n",
    "    print(result)\n",
    "    print(f\"Cost: {algo.cost_fun}\")\n",
    "    print('Time spent: {:.4f} seconds\\n'.format(end-start))\n",
    "    \n",
    "    # print('stoch-impr')\n",
    "    # start = timeit.default_timer()\n",
    "    # result = algo.run('stochastic_2_opt', iters=10000)\n",
    "    # end = timeit.default_timer()\n",
    "    # print(result)\n",
    "    # print(f\"Cost: {algo.cost_fun}\")\n",
    "    # print('Time spent: {:.4f} seconds\\n'.format(end-start))\n"
   ],
   "metadata": {
    "collapsed": false,
    "pycharm": {
     "name": "#%%\n",
     "is_executing": false
    }
   }
  },
  {
   "cell_type": "code",
   "execution_count": null,
   "outputs": [],
   "source": [
    "\n"
   ],
   "metadata": {
    "collapsed": false,
    "pycharm": {
     "name": "#%%\n"
    }
   }
  }
 ],
 "metadata": {
  "kernelspec": {
   "display_name": "Python 3",
   "language": "python",
   "name": "python3"
  },
  "language_info": {
   "codemirror_mode": {
    "name": "ipython",
    "version": 2
   },
   "file_extension": ".py",
   "mimetype": "text/x-python",
   "name": "python",
   "nbconvert_exporter": "python",
   "pygments_lexer": "ipython2",
   "version": "2.7.6"
  },
  "pycharm": {
   "stem_cell": {
    "cell_type": "raw",
    "source": [],
    "metadata": {
     "collapsed": false
    }
   }
  }
 },
 "nbformat": 4,
 "nbformat_minor": 0
}