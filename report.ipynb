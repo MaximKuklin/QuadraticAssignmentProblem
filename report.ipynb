{
 "cells": [
  {
   "cell_type": "code",
   "execution_count": 1,
   "metadata": {
    "collapsed": true,
    "pycharm": {
     "is_executing": false
    }
   },
   "outputs": [],
   "source": [
    "import pandas as pd \n",
    "import numpy as np\n",
    "import timeit\n",
    "\n",
    "from algorithms.local_search import LocalSearch\n",
    "from algorithms.iterated import Iterated\n",
    "from algorithms.guided import Guided\n",
    "from tools.load_data import get_all"
   ]
  },
  {
   "cell_type": "code",
   "execution_count": 2,
   "outputs": [
    {
     "name": "stdout",
     "text": [
      "tai100a  is loaded!\ntai20a  is loaded!\ntai40a  is loaded!\ntai60a  is loaded!\ntai80a  is loaded!\n"
     ],
     "output_type": "stream"
    },
    {
     "data": {
      "text/plain": "dict_values([20, array([[ 0, 85, 72,  7, 49, 46, 87, 58, 17, 68, 27, 21,  6, 67, 26, 82,\n        44, 35,  3, 62],\n       [85,  0,  8, 51,  1, 91, 39, 87, 72, 45, 96,  7, 87, 68, 33,  3,\n        21, 90, 45, 47],\n       [72,  8,  0, 25, 30, 43, 97, 33, 35, 61, 42, 36, 43,  7, 84,  6,\n         0,  0, 48, 62],\n       [ 7, 51, 25,  0, 59, 29, 94, 82, 29,  3,  3, 51, 67, 39, 15, 66,\n        42, 23, 62, 62],\n       [49,  1, 30, 59,  0, 28, 76, 66, 82, 98, 35, 15, 17, 77, 44, 26,\n        76, 86, 60, 62],\n       [46, 91, 43, 29, 28,  0, 62, 83, 91, 57, 62, 36,  2,  2, 43, 65,\n        37, 49, 61,  5],\n       [87, 39, 97, 94, 76, 62,  0, 34, 53, 96, 82, 48, 28, 31, 75,  1,\n        95,  7, 92, 69],\n       [58, 87, 33, 82, 66, 83, 34,  0, 62, 32, 97,  5, 39, 50, 82, 93,\n        71, 35, 14, 20],\n       [17, 72, 35, 29, 82, 91, 53, 62,  0, 74, 49, 50, 37, 79, 19, 51,\n        70, 42, 26, 79],\n       [68, 45, 61,  3, 98, 57, 96, 32, 74,  0, 98, 60, 35,  9, 96, 70,\n        21, 37, 37, 67],\n       [27, 96, 42,  3, 35, 62, 82, 97, 49, 98,  0, 93, 93, 39,  2, 52,\n        26, 90, 26,  1],\n       [21,  7, 36, 51, 15, 36, 48,  5, 50, 60, 93,  0, 68, 93,  7, 94,\n        19, 54, 37,  0],\n       [ 6, 87, 43, 67, 17,  2, 28, 39, 37, 35, 93, 68,  0, 20, 12, 11,\n        66, 84, 80,  1],\n       [67, 68,  7, 39, 77,  2, 31, 50, 79,  9, 39, 93, 20,  0, 55,  9,\n        21, 12, 65,  7],\n       [26, 33, 84, 15, 44, 43, 75, 82, 19, 96,  2,  7, 12, 55,  0, 17,\n        51, 84, 87,  2],\n       [82,  3,  6, 66, 26, 65,  1, 93, 51, 70, 52, 94, 11,  9, 17,  0,\n        27, 82, 71, 71],\n       [44, 21,  0, 42, 76, 37, 95, 71, 70, 21, 26, 19, 66, 21, 51, 27,\n         0, 40, 93, 27],\n       [35, 90,  0, 23, 86, 49,  7, 35, 42, 37, 90, 54, 84, 12, 84, 82,\n        40,  0, 93, 92],\n       [ 3, 45, 48, 62, 60, 61, 92, 14, 26, 37, 26, 37, 80, 65, 87, 71,\n        93, 93,  0, 34],\n       [62, 47, 62, 62, 62,  5, 69, 20, 79, 67,  1,  0,  1,  7,  2, 71,\n        27, 92, 34,  0]], dtype=int32), array([[ 0, 21, 95, 82, 56, 41,  6, 25, 10,  4, 63,  6, 44, 40, 75, 79,\n         0, 89, 35,  9],\n       [21,  0,  1, 85, 84, 12,  0, 26, 91, 11, 35, 82, 26, 69, 56, 86,\n        45, 91, 59, 18],\n       [95,  1,  0, 76, 39, 18, 57, 36, 61, 36, 21, 71, 11, 29, 82, 82,\n         6, 71,  8, 77],\n       [82, 85, 76,  0, 74, 30, 89, 76, 76, 40, 93, 56,  1, 50,  4, 36,\n        27, 85,  2,  1],\n       [56, 84, 39, 74,  0, 15, 11, 35, 11, 20, 21, 61, 80, 58, 21, 76,\n        72, 44, 85, 94],\n       [41, 12, 18, 30, 15,  0, 90, 51,  3, 48, 29, 90, 66, 41, 15, 83,\n        96, 74, 45, 65],\n       [ 6,  0, 57, 89, 11, 90,  0, 40, 54, 83, 14, 71, 77, 36, 53, 37,\n        26, 87, 76, 91],\n       [25, 26, 36, 76, 35, 51, 40,  0, 13, 29, 11, 77, 32, 87, 67, 94,\n        79,  2, 10, 99],\n       [10, 91, 61, 76, 11,  3, 54, 13,  0, 56, 70, 99, 60,  4, 56,  2,\n        60, 72, 74, 46],\n       [ 4, 11, 36, 40, 20, 48, 83, 29, 56,  0, 13, 20, 86,  4, 77, 15,\n        89, 48, 14, 89],\n       [63, 35, 21, 93, 21, 29, 14, 11, 70, 13,  0, 44, 59, 22, 57, 63,\n         6,  0, 62, 41],\n       [ 6, 82, 71, 56, 61, 90, 71, 77, 99, 20, 44,  0, 62, 46, 25, 75,\n        76, 40, 66, 58],\n       [44, 26, 11,  1, 80, 66, 77, 32, 60, 86, 59, 62,  0, 30, 68, 78,\n        91, 13, 59, 49],\n       [40, 69, 29, 50, 58, 41, 36, 87,  4,  4, 22, 46, 30,  0, 85, 84,\n         8, 38, 41, 56],\n       [75, 56, 82,  4, 21, 15, 53, 67, 56, 77, 57, 25, 68, 85,  0, 39,\n        53, 77, 50, 30],\n       [79, 86, 82, 36, 76, 83, 37, 94,  2, 15, 63, 75, 78, 84, 39,  0,\n        58, 55, 19, 85],\n       [ 0, 45,  6, 27, 72, 96, 26, 79, 60, 89,  6, 76, 91,  8, 53, 58,\n         0, 52, 34, 53],\n       [89, 91, 71, 85, 44, 74, 87,  2, 72, 48,  0, 40, 13, 38, 77, 55,\n        52,  0, 40, 69],\n       [35, 59,  8,  2, 85, 45, 76, 10, 74, 14, 62, 66, 59, 41, 50, 19,\n        34, 40,  0, 12],\n       [ 9, 18, 77,  1, 94, 65, 91, 99, 46, 89, 41, 58, 49, 56, 30, 85,\n        53, 69, 12,  0]], dtype=int32)])"
     },
     "metadata": {},
     "output_type": "execute_result",
     "execution_count": 2
    }
   ],
   "source": [
    "cases = get_all()\n",
    "cases[0].values()"
   ],
   "metadata": {
    "collapsed": false,
    "pycharm": {
     "name": "#%%\n",
     "is_executing": false
    }
   }
  },
  {
   "cell_type": "code",
   "execution_count": 3,
   "outputs": [
    {
     "name": "stdout",
     "text": [
      "n =  20  result:\nfirst-impr\n",
      "[ 6  0 11 12 17  9 15  7 10  4  8 13 19 16 14  2 18  5  3  1]",
      "\nCost: 744378\nTime spent: 0.1063 seconds\n\nbest-impr\n",
      "[12  3  6 11  9 16  0 18 15  1 19 10 14 17  7  2  8  5  4 13]\nCost: 730716\nTime spent: 0.1725 seconds\n\nstoch-impr\n",
      "[ 5 14  4 19 13 11  8  0 15  9  7 10 17  6  3  1 18 12 16  2]\nCost: 795482\nTime spent: 4.2377 seconds\n\nn =  40  result:\nfirst-impr\n",
      "[37 20 21 10 31 28 15 27  9 32  3 13 17 16 29 30  5  6  4  7 18  8  0 26\n 24 33 12 14 19 36 38 23 25 35  1 11 22 39  2 34]\nCost: 3305140\nTime spent: 1.0777 seconds\n\nbest-impr\n",
      "[25 11 21 28 19 32 26 27  7 13 35 37  3 16  9 33 34 38 36  0 18  8 22 10\n  2 39 29 30  4 17  5 20 12 23  1 14 15 24 31  6]\nCost: 3298334\nTime spent: 1.4751 seconds\n\nstoch-impr\n"
     ],
     "output_type": "stream"
    },
    {
     "traceback": [
      "\u001b[0;31m---------------------------------------------------------------------------\u001b[0m",
      "\u001b[0;31mKeyboardInterrupt\u001b[0m                         Traceback (most recent call last)",
      "\u001b[0;32m<ipython-input-3-6e8b3961c275>\u001b[0m in \u001b[0;36m<module>\u001b[0;34m\u001b[0m\n\u001b[1;32m     21\u001b[0m     \u001b[0mprint\u001b[0m\u001b[0;34m(\u001b[0m\u001b[0;34m'stoch-impr'\u001b[0m\u001b[0;34m)\u001b[0m\u001b[0;34m\u001b[0m\u001b[0;34m\u001b[0m\u001b[0m\n\u001b[1;32m     22\u001b[0m     \u001b[0mstart\u001b[0m \u001b[0;34m=\u001b[0m \u001b[0mtimeit\u001b[0m\u001b[0;34m.\u001b[0m\u001b[0mdefault_timer\u001b[0m\u001b[0;34m(\u001b[0m\u001b[0;34m)\u001b[0m\u001b[0;34m\u001b[0m\u001b[0;34m\u001b[0m\u001b[0m\n\u001b[0;32m---> 23\u001b[0;31m     \u001b[0mresult\u001b[0m \u001b[0;34m=\u001b[0m \u001b[0malgo\u001b[0m\u001b[0;34m.\u001b[0m\u001b[0mrun\u001b[0m\u001b[0;34m(\u001b[0m\u001b[0;34m'stochastic_2_opt'\u001b[0m\u001b[0;34m,\u001b[0m \u001b[0miters\u001b[0m\u001b[0;34m=\u001b[0m\u001b[0;36m10000\u001b[0m\u001b[0;34m)\u001b[0m\u001b[0;34m\u001b[0m\u001b[0;34m\u001b[0m\u001b[0m\n\u001b[0m\u001b[1;32m     24\u001b[0m     \u001b[0mend\u001b[0m \u001b[0;34m=\u001b[0m \u001b[0mtimeit\u001b[0m\u001b[0;34m.\u001b[0m\u001b[0mdefault_timer\u001b[0m\u001b[0;34m(\u001b[0m\u001b[0;34m)\u001b[0m\u001b[0;34m\u001b[0m\u001b[0;34m\u001b[0m\u001b[0m\n\u001b[1;32m     25\u001b[0m     \u001b[0mprint\u001b[0m\u001b[0;34m(\u001b[0m\u001b[0mresult\u001b[0m\u001b[0;34m)\u001b[0m\u001b[0;34m\u001b[0m\u001b[0;34m\u001b[0m\u001b[0m\n",
      "\u001b[0;32m~/PycharmProjects/untitled/algorithms/local_search.py\u001b[0m in \u001b[0;36mrun\u001b[0;34m(self, method, dlb, eye, iters)\u001b[0m\n\u001b[1;32m     53\u001b[0m         \u001b[0mexcept_fac\u001b[0m \u001b[0;34m=\u001b[0m \u001b[0;34m-\u001b[0m\u001b[0;36m1\u001b[0m\u001b[0;34m\u001b[0m\u001b[0;34m\u001b[0m\u001b[0m\n\u001b[1;32m     54\u001b[0m         \u001b[0;32mif\u001b[0m \u001b[0;34m'stochastic_2_opt'\u001b[0m \u001b[0;32min\u001b[0m \u001b[0mmethod_name\u001b[0m\u001b[0;34m:\u001b[0m\u001b[0;34m\u001b[0m\u001b[0;34m\u001b[0m\u001b[0m\n\u001b[0;32m---> 55\u001b[0;31m             \u001b[0mmethod\u001b[0m\u001b[0;34m(\u001b[0m\u001b[0mself\u001b[0m\u001b[0;34m,\u001b[0m \u001b[0miters\u001b[0m\u001b[0;34m)\u001b[0m\u001b[0;34m\u001b[0m\u001b[0;34m\u001b[0m\u001b[0m\n\u001b[0m\u001b[1;32m     56\u001b[0m             \u001b[0;32mreturn\u001b[0m \u001b[0mnp\u001b[0m\u001b[0;34m.\u001b[0m\u001b[0mwhere\u001b[0m\u001b[0;34m(\u001b[0m\u001b[0mself\u001b[0m\u001b[0;34m.\u001b[0m\u001b[0madj_matrix\u001b[0m\u001b[0;34m.\u001b[0m\u001b[0mT\u001b[0m \u001b[0;34m==\u001b[0m \u001b[0;36m1\u001b[0m\u001b[0;34m)\u001b[0m\u001b[0;34m[\u001b[0m\u001b[0;36m1\u001b[0m\u001b[0;34m]\u001b[0m\u001b[0;34m\u001b[0m\u001b[0;34m\u001b[0m\u001b[0m\n\u001b[1;32m     57\u001b[0m         \u001b[0;32melse\u001b[0m\u001b[0;34m:\u001b[0m\u001b[0;34m\u001b[0m\u001b[0;34m\u001b[0m\u001b[0m\n",
      "\u001b[0;32m~/PycharmProjects/untitled/algorithms/local_search.py\u001b[0m in \u001b[0;36mstochastic_2_opt\u001b[0;34m(self, iters)\u001b[0m\n\u001b[1;32m    114\u001b[0m             \u001b[0mprev_cost\u001b[0m \u001b[0;34m=\u001b[0m \u001b[0mself\u001b[0m\u001b[0;34m.\u001b[0m\u001b[0mcost_fun\u001b[0m\u001b[0;34m\u001b[0m\u001b[0;34m\u001b[0m\u001b[0m\n\u001b[1;32m    115\u001b[0m             \u001b[0mself\u001b[0m\u001b[0;34m.\u001b[0m\u001b[0madj_matrix\u001b[0m\u001b[0;34m[\u001b[0m\u001b[0mswap_part\u001b[0m\u001b[0;34m]\u001b[0m \u001b[0;34m=\u001b[0m \u001b[0mself\u001b[0m\u001b[0;34m.\u001b[0m\u001b[0madj_matrix\u001b[0m\u001b[0;34m[\u001b[0m\u001b[0mnp\u001b[0m\u001b[0;34m.\u001b[0m\u001b[0mflip\u001b[0m\u001b[0;34m(\u001b[0m\u001b[0mswap_part\u001b[0m\u001b[0;34m)\u001b[0m\u001b[0;34m]\u001b[0m\u001b[0;34m\u001b[0m\u001b[0;34m\u001b[0m\u001b[0m\n\u001b[0;32m--> 116\u001b[0;31m             \u001b[0mself\u001b[0m\u001b[0;34m.\u001b[0m\u001b[0mcost_fun\u001b[0m \u001b[0;34m=\u001b[0m \u001b[0mself\u001b[0m\u001b[0;34m.\u001b[0m\u001b[0mcost_function\u001b[0m\u001b[0;34m(\u001b[0m\u001b[0;34m)\u001b[0m\u001b[0;34m\u001b[0m\u001b[0;34m\u001b[0m\u001b[0m\n\u001b[0m\u001b[1;32m    117\u001b[0m             \u001b[0;32mif\u001b[0m \u001b[0mprev_cost\u001b[0m \u001b[0;34m<\u001b[0m \u001b[0mself\u001b[0m\u001b[0;34m.\u001b[0m\u001b[0mcost_fun\u001b[0m\u001b[0;34m:\u001b[0m\u001b[0;34m\u001b[0m\u001b[0;34m\u001b[0m\u001b[0m\n\u001b[1;32m    118\u001b[0m                 \u001b[0mself\u001b[0m\u001b[0;34m.\u001b[0m\u001b[0madj_matrix\u001b[0m\u001b[0;34m[\u001b[0m\u001b[0mswap_part\u001b[0m\u001b[0;34m]\u001b[0m \u001b[0;34m=\u001b[0m \u001b[0mself\u001b[0m\u001b[0;34m.\u001b[0m\u001b[0madj_matrix\u001b[0m\u001b[0;34m[\u001b[0m\u001b[0mnp\u001b[0m\u001b[0;34m.\u001b[0m\u001b[0mflip\u001b[0m\u001b[0;34m(\u001b[0m\u001b[0mswap_part\u001b[0m\u001b[0;34m)\u001b[0m\u001b[0;34m]\u001b[0m\u001b[0;34m\u001b[0m\u001b[0;34m\u001b[0m\u001b[0m\n",
      "\u001b[0;32m~/PycharmProjects/untitled/algorithms/local_search.py\u001b[0m in \u001b[0;36mcost_function\u001b[0;34m(self)\u001b[0m\n\u001b[1;32m     30\u001b[0m             \u001b[0;32mfor\u001b[0m \u001b[0mj\u001b[0m \u001b[0;32min\u001b[0m \u001b[0mrange\u001b[0m\u001b[0;34m(\u001b[0m\u001b[0mself\u001b[0m\u001b[0;34m.\u001b[0m\u001b[0mn\u001b[0m\u001b[0;34m)\u001b[0m\u001b[0;34m:\u001b[0m\u001b[0;34m\u001b[0m\u001b[0;34m\u001b[0m\u001b[0m\n\u001b[1;32m     31\u001b[0m                 \u001b[0;32mif\u001b[0m \u001b[0mi\u001b[0m \u001b[0;34m!=\u001b[0m \u001b[0mj\u001b[0m\u001b[0;34m:\u001b[0m\u001b[0;34m\u001b[0m\u001b[0;34m\u001b[0m\u001b[0m\n\u001b[0;32m---> 32\u001b[0;31m                     \u001b[0mfun_sum\u001b[0m \u001b[0;34m+=\u001b[0m \u001b[0mself\u001b[0m\u001b[0;34m.\u001b[0m\u001b[0mF\u001b[0m\u001b[0;34m[\u001b[0m\u001b[0mi\u001b[0m\u001b[0;34m,\u001b[0m \u001b[0mj\u001b[0m\u001b[0;34m]\u001b[0m \u001b[0;34m*\u001b[0m \u001b[0mself\u001b[0m\u001b[0;34m.\u001b[0m\u001b[0mD\u001b[0m\u001b[0;34m[\u001b[0m\u001b[0mloc\u001b[0m\u001b[0;34m[\u001b[0m\u001b[0mi\u001b[0m\u001b[0;34m]\u001b[0m\u001b[0;34m,\u001b[0m \u001b[0mloc\u001b[0m\u001b[0;34m[\u001b[0m\u001b[0mj\u001b[0m\u001b[0;34m]\u001b[0m\u001b[0;34m]\u001b[0m\u001b[0;34m\u001b[0m\u001b[0;34m\u001b[0m\u001b[0m\n\u001b[0m\u001b[1;32m     33\u001b[0m         \u001b[0;32mreturn\u001b[0m \u001b[0mfun_sum\u001b[0m\u001b[0;34m\u001b[0m\u001b[0;34m\u001b[0m\u001b[0m\n\u001b[1;32m     34\u001b[0m \u001b[0;34m\u001b[0m\u001b[0m\n",
      "\u001b[0;31mKeyboardInterrupt\u001b[0m: "
     ],
     "ename": "KeyboardInterrupt",
     "evalue": "",
     "output_type": "error"
    }
   ],
   "source": [
    "for case in cases:\n",
    "    algo = LocalSearch(*case.values())\n",
    "    print('n = ', case['n'], ' result:')\n",
    "    \n",
    "    print('first-impr')\n",
    "    start = timeit.default_timer()\n",
    "    result = algo.run('first_improvement', dlb=True)\n",
    "    end = timeit.default_timer()\n",
    "    print(result)\n",
    "    print(f\"Cost: {algo.cost_fun}\")\n",
    "    print('Time spent: {:.4f} seconds\\n'.format(end-start))\n",
    "    \n",
    "    print('best-impr')\n",
    "    start = timeit.default_timer()\n",
    "    result = algo.run('best_improvement', dlb=True)\n",
    "    end = timeit.default_timer()\n",
    "    print(result)\n",
    "    print(f\"Cost: {algo.cost_fun}\")\n",
    "    print('Time spent: {:.4f} seconds\\n'.format(end-start))\n",
    "    \n",
    "    print('stoch-impr')\n",
    "    start = timeit.default_timer()\n",
    "    result = algo.run('stochastic_2_opt', iters=10000)\n",
    "    end = timeit.default_timer()\n",
    "    print(result)\n",
    "    print(f\"Cost: {algo.cost_fun}\")\n",
    "    print('Time spent: {:.4f} seconds\\n'.format(end-start))\n"
   ],
   "metadata": {
    "collapsed": false,
    "pycharm": {
     "name": "#%%\n",
     "is_executing": false
    }
   }
  },
  {
   "cell_type": "code",
   "execution_count": null,
   "outputs": [],
   "source": [
    "\n"
   ],
   "metadata": {
    "collapsed": false,
    "pycharm": {
     "name": "#%%\n"
    }
   }
  }
 ],
 "metadata": {
  "kernelspec": {
   "display_name": "Python 3",
   "language": "python",
   "name": "python3"
  },
  "language_info": {
   "codemirror_mode": {
    "name": "ipython",
    "version": 2
   },
   "file_extension": ".py",
   "mimetype": "text/x-python",
   "name": "python",
   "nbconvert_exporter": "python",
   "pygments_lexer": "ipython2",
   "version": "2.7.6"
  },
  "pycharm": {
   "stem_cell": {
    "cell_type": "raw",
    "source": [],
    "metadata": {
     "collapsed": false
    }
   }
  }
 },
 "nbformat": 4,
 "nbformat_minor": 0
}